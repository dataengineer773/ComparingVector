{
 "cells": [
  {
   "cell_type": "code",
   "execution_count": 1,
   "id": "af5406ae-8873-4806-b7b9-2b76eac0adb2",
   "metadata": {},
   "outputs": [],
   "source": [
    "class Vector:\n",
    "    def __init__(self, values):\n",
    "        self.values = values\n",
    "\n",
    "    def __repr__(self):\n",
    "        return f\"Vector({self.values})\"\n"
   ]
  },
  {
   "cell_type": "code",
   "execution_count": 2,
   "id": "e2b69854-9845-4f5c-9906-2bf745a23737",
   "metadata": {},
   "outputs": [],
   "source": [
    "va = Vector([1, 2, 3])"
   ]
  },
  {
   "cell_type": "code",
   "execution_count": 3,
   "id": "a5dbaec4-f243-44dc-a2df-5859a439e255",
   "metadata": {},
   "outputs": [],
   "source": [
    "vb = Vector(range(1, 4))"
   ]
  },
  {
   "cell_type": "code",
   "execution_count": 4,
   "id": "2f9f54b2-7db3-4e85-9955-1f58241d0a63",
   "metadata": {},
   "outputs": [
    {
     "data": {
      "text/plain": [
       "False"
      ]
     },
     "execution_count": 4,
     "metadata": {},
     "output_type": "execute_result"
    }
   ],
   "source": [
    "va == vb"
   ]
  },
  {
   "cell_type": "code",
   "execution_count": 5,
   "id": "ac95e740-b75d-4801-8d1b-a83deaaccedf",
   "metadata": {},
   "outputs": [],
   "source": [
    "vc = Vector([1, 2])"
   ]
  },
  {
   "cell_type": "code",
   "execution_count": 6,
   "id": "2c8ecf9f-343b-4196-abad-6680bfbbca18",
   "metadata": {},
   "outputs": [],
   "source": [
    "import os\n",
    "\n",
    "# Create a folder named \"vector2d_v3\"\n",
    "os.makedirs(\"vector2d_v3\", exist_ok=True)\n"
   ]
  },
  {
   "cell_type": "code",
   "execution_count": null,
   "id": "70187b05-5152-4953-8de5-2cee222980cc",
   "metadata": {},
   "outputs": [],
   "source": []
  }
 ],
 "metadata": {
  "kernelspec": {
   "display_name": "Python 3 (ipykernel)",
   "language": "python",
   "name": "python3"
  },
  "language_info": {
   "codemirror_mode": {
    "name": "ipython",
    "version": 3
   },
   "file_extension": ".py",
   "mimetype": "text/x-python",
   "name": "python",
   "nbconvert_exporter": "python",
   "pygments_lexer": "ipython3",
   "version": "3.12.3"
  }
 },
 "nbformat": 4,
 "nbformat_minor": 5
}
